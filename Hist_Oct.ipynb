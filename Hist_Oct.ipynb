{
 "cells": [
  {
   "cell_type": "code",
   "execution_count": 1,
   "metadata": {},
   "outputs": [],
   "source": [
    "import numpy as np\n",
    "import os\n",
    "import zipfile\n",
    "import tensorflow as tf\n",
    "from tensorflow import keras\n",
    "from tensorflow.keras.preprocessing.image import ImageDataGenerator"
   ]
  },
  {
   "cell_type": "code",
   "execution_count": null,
   "metadata": {},
   "outputs": [],
   "source": []
  },
  {
   "cell_type": "code",
   "execution_count": 2,
   "metadata": {},
   "outputs": [
    {
     "name": "stdout",
     "output_type": "stream",
     "text": [
      "1577\n",
      "206\n",
      "535\n",
      "206\n"
     ]
    }
   ],
   "source": [
    "print(len(os.listdir(\"C:/Users/adeat/Desktop/Project/Class/Tensorflow/Hist_OCT/Train/Hist\")))\n",
    "print(len(os.listdir(\"C:/Users/adeat/Desktop/Project/Class/Tensorflow/Hist_OCT/Train/oct\")))\n",
    "print(len(os.listdir(\"C:/Users/adeat/Desktop/Project/Class/Tensorflow/Hist_OCT/validate/Hist\")))\n",
    "print(len(os.listdir(\"C:/Users/adeat/Desktop/Project/Class/Tensorflow/Hist_OCT/validate/OCT\")))"
   ]
  },
  {
   "cell_type": "code",
   "execution_count": 3,
   "metadata": {},
   "outputs": [],
   "source": [
    "model = tf.keras.models.Sequential([\n",
    "            tf.keras.layers.Conv2D(32, (3,3), activation ='relu', input_shape=(150,150,3)),\n",
    "            tf.keras.layers.MaxPooling2D(2,2),\n",
    "            #tf.keras.layers.Conv2D(32, (3,3), activation ='relu'),\n",
    "            #tf.keras.layers.MaxPooling2D(2,2),\n",
    "            tf.keras.layers.Conv2D(64, (3,3), activation ='relu'),\n",
    "            tf.keras.layers.MaxPooling2D(2,2),\n",
    "            tf.keras.layers.Conv2D(64, (3,3), activation ='relu'),\n",
    "            tf.keras.layers.MaxPooling2D(2,2),\n",
    "            tf.keras.layers.Flatten(),\n",
    "            tf.keras.layers.Dense(512, activation = tf.nn.relu),\n",
    "            tf.keras.layers.Dense(1, activation= 'sigmoid')\n",
    "])"
   ]
  },
  {
   "cell_type": "code",
   "execution_count": 4,
   "metadata": {},
   "outputs": [],
   "source": [
    "model.compile(optimizer = 'adam', loss = 'binary_crossentropy', metrics = ['accuracy'])"
   ]
  },
  {
   "cell_type": "code",
   "execution_count": 5,
   "metadata": {},
   "outputs": [
    {
     "name": "stdout",
     "output_type": "stream",
     "text": [
      "Model: \"sequential\"\n",
      "_________________________________________________________________\n",
      "Layer (type)                 Output Shape              Param #   \n",
      "=================================================================\n",
      "conv2d (Conv2D)              (None, 148, 148, 32)      896       \n",
      "_________________________________________________________________\n",
      "max_pooling2d (MaxPooling2D) (None, 74, 74, 32)        0         \n",
      "_________________________________________________________________\n",
      "conv2d_1 (Conv2D)            (None, 72, 72, 64)        18496     \n",
      "_________________________________________________________________\n",
      "max_pooling2d_1 (MaxPooling2 (None, 36, 36, 64)        0         \n",
      "_________________________________________________________________\n",
      "conv2d_2 (Conv2D)            (None, 34, 34, 64)        36928     \n",
      "_________________________________________________________________\n",
      "max_pooling2d_2 (MaxPooling2 (None, 17, 17, 64)        0         \n",
      "_________________________________________________________________\n",
      "flatten (Flatten)            (None, 18496)             0         \n",
      "_________________________________________________________________\n",
      "dense (Dense)                (None, 512)               9470464   \n",
      "_________________________________________________________________\n",
      "dense_1 (Dense)              (None, 1)                 513       \n",
      "=================================================================\n",
      "Total params: 9,527,297\n",
      "Trainable params: 9,527,297\n",
      "Non-trainable params: 0\n",
      "_________________________________________________________________\n"
     ]
    }
   ],
   "source": [
    "model.summary()"
   ]
  },
  {
   "cell_type": "code",
   "execution_count": 6,
   "metadata": {},
   "outputs": [
    {
     "name": "stdout",
     "output_type": "stream",
     "text": [
      "Found 1783 images belonging to 2 classes.\n",
      "Found 741 images belonging to 2 classes.\n"
     ]
    }
   ],
   "source": [
    "train_datagen = ImageDataGenerator(rescale=1/255.0)\n",
    "validation_datagen = ImageDataGenerator(rescale=1/255.0)\n",
    "\n",
    "training_generator = train_datagen.flow_from_directory(\n",
    "                    \"C:/Users/adeat/Desktop/Project/Class/Tensorflow/Hist_OCT/Train\",\n",
    "                    target_size = (150, 150),\n",
    "                    batch_size = 100,\n",
    "                    class_mode = 'binary')\n",
    "\n",
    "validation_generator = validation_datagen.flow_from_directory(\n",
    "                    \"C:/Users/adeat/Desktop/Project/Class/Tensorflow/Hist_OCT/validate\",\n",
    "                    target_size = (150, 150),\n",
    "                    batch_size = 50,\n",
    "                    class_mode = 'binary')"
   ]
  },
  {
   "cell_type": "code",
   "execution_count": 7,
   "metadata": {},
   "outputs": [
    {
     "name": "stdout",
     "output_type": "stream",
     "text": [
      "WARNING:tensorflow:From <ipython-input-7-080b7e30e66e>:7: Model.fit_generator (from tensorflow.python.keras.engine.training) is deprecated and will be removed in a future version.\n",
      "Instructions for updating:\n",
      "Please use Model.fit, which supports generators.\n",
      "Epoch 1/5\n",
      "10/10 - 295s - loss: 0.2009 - accuracy: 0.8680 - val_loss: 0.0272 - val_accuracy: 0.9920\n",
      "Epoch 2/5\n",
      "10/10 - 142s - loss: 0.0059 - accuracy: 0.9980 - val_loss: 0.0048 - val_accuracy: 0.9980\n",
      "Epoch 3/5\n",
      "10/10 - 74s - loss: 0.0058 - accuracy: 0.9990 - val_loss: 0.0050 - val_accuracy: 0.9960\n",
      "Epoch 4/5\n",
      "10/10 - 43s - loss: 1.7518e-04 - accuracy: 1.0000 - val_loss: 7.3431e-05 - val_accuracy: 1.0000\n",
      "Epoch 5/5\n",
      "10/10 - 42s - loss: 5.5045e-05 - accuracy: 1.0000 - val_loss: 1.5517e-05 - val_accuracy: 1.0000\n"
     ]
    },
    {
     "data": {
      "text/plain": [
       "<tensorflow.python.keras.callbacks.History at 0x1648c2c84c8>"
      ]
     },
     "execution_count": 7,
     "metadata": {},
     "output_type": "execute_result"
    }
   ],
   "source": [
    "model.fit_generator(\n",
    "        training_generator,\n",
    "        steps_per_epoch = 10,\n",
    "        epochs = 5,\n",
    "        validation_data = validation_generator,\n",
    "        validation_steps = 10,\n",
    "        verbose = 2)"
   ]
  },
  {
   "cell_type": "code",
   "execution_count": 8,
   "metadata": {},
   "outputs": [
    {
     "name": "stdout",
     "output_type": "stream",
     "text": [
      "15/15 [==============================] - 6s 395ms/step - loss: 1.9136e-05 - accuracy: 1.0000\n"
     ]
    },
    {
     "data": {
      "text/plain": [
       "[1.913563028210774e-05, 1.0]"
      ]
     },
     "execution_count": 8,
     "metadata": {},
     "output_type": "execute_result"
    }
   ],
   "source": [
    "model.evaluate(validation_generator)"
   ]
  },
  {
   "cell_type": "code",
   "execution_count": 27,
   "metadata": {},
   "outputs": [
    {
     "name": "stdout",
     "output_type": "stream",
     "text": [
      "['HP_BC_001.jpg', 'HP_BC_002.jpg', 'HP_BC_004.jpg', 'OCT_BC_001.jpg', 'OCT_BC_002.jpg', 'OCT_BC_004.jpg']\n"
     ]
    }
   ],
   "source": [
    "from os import listdir\n",
    "from os.path import isfile, join\n",
    "predict_dir_path='C:/Users/adeat/Desktop/Project/Class/Tensorflow/Hist_OCT/validate/test/'\n",
    "onlyfiles = [f for f in listdir(predict_dir_path) if isfile(join(predict_dir_path, f))]\n",
    "print(onlyfiles)"
   ]
  },
  {
   "cell_type": "code",
   "execution_count": 29,
   "metadata": {},
   "outputs": [
    {
     "name": "stdout",
     "output_type": "stream",
     "text": [
      "HP_BC_001.jpg: Histopathology\n",
      "HP_BC_002.jpg: Histopathology\n",
      "HP_BC_004.jpg: Histopathology\n",
      "OCT_BC_001.jpg: OCT\n",
      "OCT_BC_002.jpg: OCT\n",
      "OCT_BC_004.jpg: OCT\n",
      "Total OCT  : 3\n",
      "Total histopathology : 3\n"
     ]
    }
   ],
   "source": [
    "\n",
    "# predicting images\n",
    "from keras.preprocessing import image\n",
    "OCT_counter = 0 \n",
    "Hist_counter  = 0\n",
    "for file in onlyfiles:\n",
    "    img = image.load_img(predict_dir_path+file, target_size=(150, 150))\n",
    "    x = image.img_to_array(img)\n",
    "    x = np.expand_dims(x, axis=0)\n",
    "    \n",
    "    images = np.vstack([x])\n",
    "    classes = model.predict_classes(images, batch_size=10)\n",
    "    classes = classes[0][0]\n",
    "    \n",
    "    if classes == 0:\n",
    "        print(file + \": \" + 'Histopathology')\n",
    "        Hist_counter += 1\n",
    "    else:\n",
    "        print(file + \": \" + 'OCT')\n",
    "        OCT_counter += 1\n",
    "print(\"Total OCT  :\",OCT_counter)\n",
    "print(\"Total histopathology :\",Hist_counter)"
   ]
  },
  {
   "cell_type": "code",
   "execution_count": null,
   "metadata": {},
   "outputs": [],
   "source": []
  },
  {
   "cell_type": "code",
   "execution_count": null,
   "metadata": {},
   "outputs": [],
   "source": []
  }
 ],
 "metadata": {
  "kernelspec": {
   "display_name": "Python 3",
   "language": "python",
   "name": "python3"
  },
  "language_info": {
   "codemirror_mode": {
    "name": "ipython",
    "version": 3
   },
   "file_extension": ".py",
   "mimetype": "text/x-python",
   "name": "python",
   "nbconvert_exporter": "python",
   "pygments_lexer": "ipython3",
   "version": "3.7.6"
  }
 },
 "nbformat": 4,
 "nbformat_minor": 4
}
